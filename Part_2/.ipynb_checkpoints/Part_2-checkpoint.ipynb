{
 "cells": [
  {
   "cell_type": "markdown",
   "id": "14d89bd1",
   "metadata": {},
   "source": [
    "## Task 1"
   ]
  },
  {
   "cell_type": "code",
   "execution_count": 5,
   "id": "34e989b4",
   "metadata": {},
   "outputs": [],
   "source": [
    "def find_min_pledge(pledge_list):\n",
    "    pledges_set = set(pledge_list)\n",
    "    min_pledge = 1\n",
    "    while min_pledge in pledges_set:\n",
    "        min_pledge += 1\n",
    "    return min_pledge"
   ]
  },
  {
   "cell_type": "code",
   "execution_count": 9,
   "id": "6aee7f0f",
   "metadata": {},
   "outputs": [],
   "source": [
    "assert find_min_pledge([1, 3, 6, 4, 1, 2]) == 5\n",
    "assert find_min_pledge([1, 2, 3]) == 4\n",
    "assert find_min_pledge([-1, -3]) == 1"
   ]
  },
  {
   "cell_type": "markdown",
   "id": "6a93e286",
   "metadata": {},
   "source": [
    "## Task 2"
   ]
  },
  {
   "cell_type": "code",
   "execution_count": 1,
   "id": "caff0a0c",
   "metadata": {},
   "outputs": [
    {
     "name": "stdout",
     "output_type": "stream",
     "text": [
      "['Israel strike on Gaza school building kills more than 70, hospital head says - BBC.com', 'EXCLUSIVE: Ex-deputy who killed Sonya Massey had history of complaints involving women - USA TODAY', 'Harris Leads Trump in Three Key States, Times/Siena Polls Find - The New York Times', 'Ukraine updates: IAEA warns of nuclear disaster in Kursk - DW (English)', 'Brazilian authorities are investigating the cause of the fiery plane crash that killed 62 - The Associated Press', \"Arizona Kamala Harris rally speakers court 'John McCain Republicans' support; man brings border map for VP - Fox News\", 'Trump hits NYT while doubling down on near-crash helicopter story - The Hill', 'Debby finally moves out of the US, though risk from flooded rivers remains - The Associated Press', \"California's cracking down hard on unhoused people – and they're running out of options - USA TODAY\", 'Tim Walz vs. JD Vance: What the 2024 presidential running mates could mean for your wallet - CNBC', 'U.S. prepares for crucial week as Gaza deal faces \"now-or-never\" moment - Axios', 'Dozens of Rohingya fleeing Myanmar killed in drone attack - Reuters.com', 'Video appears to show Israeli soldiers sexually assaulting a Palestinian detainee - CNN', \"Hezbollah is the 'X-factor' in looming Israel, Iran war with 'nation state capabilities' - Fox News\", 'Susan Wojcicki, former YouTube CEO and longtime Google executive, has died at 56 - The Associated Press', 'F.D.A. Declines to Approve MDMA Therapy, Seeking More Study - The New York Times', 'Wall Street on Edge After a Week of Wild Swings - The New York Times', 'Markets end volatile week as recession fears pressure investment sentiment - Fox Business', 'The Google Pixel 9 could come with a surprise storage boost – but only for some - TechRadar', 'AMD Ryzen 7 9700X Performance With DDR5-8000 Using Corsair Vengeance 2x16GB DDR5-8000 DIMMs Review - Phoronix', 'ChatGPT unexpectedly began speaking in a user’s cloned voice during testing - Ars Technica', \"Flood of 'junk': How AI is changing scientific publishing - Phys.org\", 'Disney is hoping for a box office rebound built on sequels, prequels and pixie dust - CNBC', 'Blake Lively Takes Friday Away From Ryan Reynolds As ‘It Ends With Us’ Posts $24M Over ‘Deadpool & Wolverine’s $15M+; ‘Borderlands’ Bombing With D+ CinemaScore – Saturday Update - Deadline', \"'Snow White' trailer unveils Gal Gadot's Evil Queen; Lindsay Lohan is 'Freakier' - USA TODAY\", \"Bennifer, Brangelina go bust: how 'egos clashing' and 'struggle for dominance' can kill Hollywood marriages - Fox News\", 'USA vs. Brazil: Match Preview | 2024 Paris Olympics - Gold Medal Match - U.S. Soccer', 'How to watch US-France in Men’s Basketball gold medal game at the 2024 Olympics - New York Post', 'Ko wins gold, qualifies for LPGA Hall of Fame - ESPN', \"Mike Tomlin: Fumbles 'negated a lot of good things' Justin Fields did in Steelers debut - NFL.com\", 'Where did the ‘hobbit’ humans come from? New fossils shed light - CNN', 'Perseid Meteor Shower 2024: When and how to watch - BBC.com', 'SpaceX aces 2nd attempt, launching Falcon 9 with 21 Starlink satellites - Spaceflight Now', \"Could 2 NASA astronauts be stuck at the space station until next year? Here's what to know - WPVI-TV\", 'This after-dinner activity went viral for helping you \"age wonderfully.\" Does it work? - CBS News', 'When mammograms lead to more testing, it doesn’t mean automatic bad news - The Washington Post', 'Artificial sweetener erythritol could elevate heart disease risk, preliminary research suggests - WPVI-TV', 'Why a growing mpox outbreak has the world worried again - The Washington Post']\n"
     ]
    }
   ],
   "source": [
    "import feedparser\n",
    "\n",
    "google_news_url = \"https://news.google.com/news/rss\"\n",
    "\n",
    "def get_headlines(rss_url):\n",
    "    feed = feedparser.parse(rss_url)\n",
    "    titles = [entry.title for entry in feed.entries]\n",
    "    return titles\n",
    "\n",
    "print(get_headlines(google_news_url))\n"
   ]
  },
  {
   "cell_type": "markdown",
   "id": "74949336",
   "metadata": {},
   "source": [
    "## Task 3"
   ]
  },
  {
   "cell_type": "code",
   "execution_count": 2,
   "id": "0b0dd7aa",
   "metadata": {},
   "outputs": [],
   "source": [
    "def get_payments_storage():\n",
    "    \"\"\"\n",
    "    @returns an instance of https://docs.python.org/3/library/io.html#io.BufferedWriter\n",
    "    \"\"\"\n",
    "    # Sample implementation to make the code run in coderpad.\n",
    "    # Do not rely on this exact implementation.\n",
    "    return open('/dev/null', 'wb')\n",
    "\n",
    "# This is a library function, you can't modify it.\n",
    "def stream_payments_to_storage(storage):\n",
    "    \"\"\"\n",
    "    Loads payments and writes them to the `storage`.\n",
    "    Returns when all payments have been written.\n",
    "    @parameter `storage`: is an instance of\n",
    "    https://docs.python.org/3/library/io.html#io.BufferedWriter\n",
    "    \"\"\"\n",
    "    # Sample implementation to make the code run in coderpad.\n",
    "    # Do not rely on this exact implementation.\n",
    "    for i in range(10):\n",
    "        storage.write(bytes([1, 2, 3, 4, 5]))\n"
   ]
  },
  {
   "cell_type": "code",
   "execution_count": 3,
   "id": "96d107ef",
   "metadata": {},
   "outputs": [
    {
     "name": "stdout",
     "output_type": "stream",
     "text": [
      "150\n"
     ]
    }
   ],
   "source": [
    "class ChecksumStorage:\n",
    "    def __init__(self, storage):\n",
    "        self.storage = storage\n",
    "        self.checksum = 0\n",
    "\n",
    "    def write(self, buffer):\n",
    "        self.checksum += sum(buffer)\n",
    "        self.storage.write(buffer)\n",
    "\n",
    "    def get_checksum(self):\n",
    "        return self.checksum\n",
    "\n",
    "def process_payments():\n",
    "    storage = get_payments_storage()\n",
    "    checksum_storage = ChecksumStorage(storage)\n",
    "    stream_payments_to_storage(checksum_storage)\n",
    "    print(checksum_storage.get_checksum())\n",
    "\n",
    "process_payments()\n"
   ]
  },
  {
   "cell_type": "markdown",
   "id": "eb7039c6",
   "metadata": {},
   "source": [
    "## Task 5"
   ]
  },
  {
   "cell_type": "code",
   "execution_count": 4,
   "id": "ab281389",
   "metadata": {},
   "outputs": [],
   "source": [
    "def stream_payments(callback_fn):\n",
    "    \"\"\"\n",
    "    Reads payments from a payment processor and calls `callback_fn(amount)`\n",
    "    for each payment.\n",
    "    Returns when there is no more payments.\n",
    "    \"\"\"\n",
    "    # Sample implementation to make the code run in coderpad.\n",
    "    # Do not rely on this exact implementation.\n",
    "    for i in range(10):\n",
    "        callback_fn(i)\n",
    "        \n",
    "        \n",
    "# This is a library function, you can't modify it.\n",
    "def store_payments(amount_iterator):\n",
    "    \"\"\"\n",
    "    Iterates over the payment amounts from amount_iterator\n",
    "    and stores them to a remote system.\n",
    "    \"\"\"\n",
    "    # Sample implementation to make the code run in coderpad.\n",
    "    # Do not rely on this exact implementation.\n",
    "    for i in amount_iterator:\n",
    "        print(i)\n",
    "        \n",
    "        \n",
    "def callback_example(amount):\n",
    "    print(amount)\n",
    "    return True"
   ]
  },
  {
   "cell_type": "code",
   "execution_count": 5,
   "id": "607e496e",
   "metadata": {},
   "outputs": [
    {
     "name": "stdout",
     "output_type": "stream",
     "text": [
      "0\n",
      "1\n",
      "2\n",
      "3\n",
      "4\n",
      "5\n",
      "6\n",
      "7\n",
      "8\n",
      "9\n"
     ]
    }
   ],
   "source": [
    "def process_payments_2():\n",
    "    \"\"\"\n",
    "    Modify `process_payments_2()`, write glue code that enables\n",
    "    `store_payments()` to consume payments produced by `stream_payments()`.\n",
    "    \"\"\"\n",
    "    def payment_generator():\n",
    "        payment_queue = []\n",
    "\n",
    "        def callback_fn(amount):\n",
    "            payment_queue.append(amount)\n",
    "\n",
    "        stream_payments(callback_fn)\n",
    "\n",
    "        while payment_queue:\n",
    "            yield payment_queue.pop(0)\n",
    "\n",
    "    payments = payment_generator()\n",
    "    store_payments(payments)\n",
    "\n",
    "process_payments_2()\n"
   ]
  },
  {
   "cell_type": "markdown",
   "id": "0c22b3d2",
   "metadata": {},
   "source": [
    "## Task 6"
   ]
  },
  {
   "cell_type": "code",
   "execution_count": 21,
   "id": "846d9dbf",
   "metadata": {},
   "outputs": [],
   "source": [
    "def get_value(data, key, default, lookup=None, mapper=None):\n",
    "    \"\"\"\n",
    "    Finds the value from data associated with key, or default if the\n",
    "    key isn't present.\n",
    "    If a lookup enum is provided, this value is then transformed to its\n",
    "    enum value.\n",
    "    If a mapper function is provided, this value is then transformed\n",
    "    by applying mapper to it.\n",
    "    \"\"\"\n",
    "    # Use data.get(key, default) to handle missing keys\n",
    "    return_value = data[key]  # This will raise a KeyError if key is not in data\n",
    "    \n",
    "    # Check if the key exists before using it\n",
    "    if return_value is None or return_value == \"\":\n",
    "        return_value = default\n",
    "\n",
    "    # Use get() method to handle missing keys\n",
    "    if lookup:\n",
    "        return_value = lookup[return_value]  # This may raise a KeyError if the value is not in lookup\n",
    "\n",
    "    if mapper:\n",
    "        # Add error handling\n",
    "        return_value = mapper(return_value)\n",
    "\n",
    "    return return_value\n",
    "\n",
    "\n",
    "def ftp_file_prefix(namespace):\n",
    "    \"\"\"\n",
    "    Given a namespace string with dot-separated tokens, returns the\n",
    "    string with\n",
    "    the final token replaced by 'ftp'.\n",
    "    Example: a.b.c => a.b.ftp\n",
    "    \"\"\"\n",
    "    # Handle cases with no dots in the namespace\n",
    "    if '.' not in namespace:\n",
    "        raise ValueError(\"Namespace must contain at least one dot.\")\n",
    "\n",
    "    return \".\".join(namespace.split(\".\")[:-1]) + '.ftp'\n",
    "\n",
    "\n",
    "def string_to_bool(string):\n",
    "    \"\"\"\n",
    "    Returns True if the given string is 'true' case-insensitive,\n",
    "    False if it is\n",
    "    'false' case-insensitive.\n",
    "    Raises ValueError for any other input.\n",
    "    \"\"\"\n",
    "    if string.lower() == 'true':\n",
    "        return True\n",
    "    if string.lower() == 'false':\n",
    "        return False\n",
    "    raise ValueError(f'String {string} is neither true nor false')\n",
    "\n",
    "\n",
    "def config_from_dict(dict):\n",
    "    \"\"\"\n",
    "    Given a dict representing a row from a namespaces csv file,\n",
    "    returns a DAG configuration as a pair whose first element is the\n",
    "    DAG name\n",
    "    and whose second element is a dict describing the DAG's properties\n",
    "    \"\"\"\n",
    "    # Don't use dict as a variable name to prevent conflicts with the built-in Python dictionary type\n",
    "    namespace = dict['Namespace']\n",
    "    return (dict['Airflow DAG'],\n",
    "            {\"earliest_available_delta_days\": 0,\n",
    "             \"lif_encoding\": 'json',\n",
    "             \"earliest_available_time\":\n",
    "                 get_value(dict, 'Available Start Time', '07:00'),\n",
    "             \"latest_available_time\":\n",
    "                 get_value(dict, 'Available End Time', '08:00'),\n",
    "             \"require_schema_match\":\n",
    "                 get_value(dict, 'Requires Schema Match', 'True',\n",
    "                           mapper=string_to_bool),\n",
    "             \"schedule_interval\":\n",
    "                 get_value(dict, 'Schedule', '1 7 * * * '),\n",
    "             \"delta_days\":\n",
    "                 get_value(dict, 'Delta Days', 'DAY_BEFORE',\n",
    "                           lookup=DeltaDays),  \n",
    "             \"ftp_file_wildcard\":\n",
    "                 get_value(dict, 'File Naming Pattern', None),\n",
    "             \"ftp_file_prefix\":\n",
    "                 get_value(dict, 'FTP File Prefix',\n",
    "                           ftp_file_prefix(namespace)),  \n",
    "             \"namespace\": namespace\n",
    "             }\n",
    "           )\n"
   ]
  }
 ],
 "metadata": {
  "kernelspec": {
   "display_name": "Python 3 (ipykernel)",
   "language": "python",
   "name": "python3"
  },
  "language_info": {
   "codemirror_mode": {
    "name": "ipython",
    "version": 3
   },
   "file_extension": ".py",
   "mimetype": "text/x-python",
   "name": "python",
   "nbconvert_exporter": "python",
   "pygments_lexer": "ipython3",
   "version": "3.11.8"
  }
 },
 "nbformat": 4,
 "nbformat_minor": 5
}
